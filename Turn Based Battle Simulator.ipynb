{
 "cells": [
  {
   "cell_type": "code",
   "execution_count": 2,
   "metadata": {},
   "outputs": [],
   "source": [
    "class Player:\n",
    "    def __init__(self, health, gold, experience, weapons, armor, skills, elementalResistances):\n",
    "        self.health = health + armor.health\n",
    "        self.gold = gold\n",
    "        self.weapons = weapons\n",
    "        self.armor = armor\n",
    "        self.experience = experience\n",
    "        self.skillList = skills \n",
    "        self.criticalRate = 0.05 + weapons.criticalRate;\n",
    "        self.attackDamage = 10 + weapons.attackDamage\n",
    "        self.magicDamage = 10 + weapons.magicDamage\n",
    "        self.physicalDefense = 10 + armor.physicalDefense\n",
    "        self.magicDefense = 10 + armor.magicDefense\n",
    "        self.luck = 0.05 + armor.luck\n",
    "        self.elementalResistances = {'Fire':0+armor.elementalResistances['Fire'], \n",
    "                                     'Water':0+armor.elementalResistances['Water'], \n",
    "                                     'Electric':0+armor.elementalResistances['Electric'],\n",
    "                                     'Ice':0+armor.elementalResistances['Ice'],\n",
    "                                     'Dark':0+armor.elementalResistances['Dark'],\n",
    "                                     'Light':0+armor.elementalResistances['Light'],\n",
    "                                     'Physical':0+armor.elementalResistances['Physical']\n",
    "                                    }\n",
    "    \n",
    "    def adjustHealth(self, health): #Health can be positive or negative \n",
    "        self.health += health\n",
    "    \n",
    "    def changeWeapon(self, weapon): \n",
    "        self.attackDamage = 10 + weapons.attackDamage + buffs.attackDamage - debuffs.attackDamage\n",
    "    \n",
    "    def adjustattackDamage(self, value):\n",
    "        self.attackDamage += value\n",
    "\n",
    "    def adjustmagicDamage(self, value):\n",
    "        self.magicDamage += value\n",
    "    \n",
    "    def printElementalResistances(self):\n",
    "        for y in self.elementalResistances[x]:\n",
    "            print (y,':',self.elementalResistances[x][y])\n",
    "        \n",
    "        \n",
    "        "
   ]
  },
  {
   "cell_type": "code",
   "execution_count": 3,
   "metadata": {},
   "outputs": [],
   "source": [
    "class Weapon:\n",
    "    def __init__(self, attackDamage, magicDamage, criticalRate, element):\n",
    "        self.attackDamage = attackDamage \n",
    "        self.magicDamage = magicDamage \n",
    "        self.criticalRate = criticalRate\n",
    "        self.element = element\n",
    "\n",
    "class Armor:\n",
    "    def __init__(self, health, physicalDefense, magicDefense, luck, elementalResistances):\n",
    "        self.physicalDefense = physicalDefense\n",
    "        self.health = health\n",
    "        self.magicDefense = magicDefense \n",
    "        self.luck = luck \n",
    "        self.elementalResistances = elementalResistances\n"
   ]
  },
  {
   "cell_type": "code",
   "execution_count": 4,
   "metadata": {},
   "outputs": [],
   "source": [
    "class Enemy:\n",
    "    def __init__(self, health, name, goldReward, experienceReward, attackDamage, magicDamage, \n",
    "                 physicalDefense, magicDefense, elementalResistances):\n",
    "        #elemental resistances could be a dictionary with elements and respective resistances \n",
    "        self.health = health\n",
    "        self.name = name\n",
    "        self.goldReward = goldReward\n",
    "        self.experienceReward = experienceReward\n",
    "        self.attackDamage = attackDamage\n",
    "        self.magicDamage = magicDamage\n",
    "        self.physicalDefense = physicalDefense\n",
    "        self.magicDefense = magicDefense \n",
    "        self.elementalResistances = elementalResistances\n",
    "    \n",
    "    def adjustHealth(self, health):\n",
    "        self.health += health\n",
    "\n"
   ]
  },
  {
   "cell_type": "code",
   "execution_count": 5,
   "metadata": {},
   "outputs": [],
   "source": [
    "from random import randint\n",
    "import random\n",
    "from IPython.display import clear_output\n",
    "class Skill:\n",
    "    def __init__(self, name, baseDmg, variationDmg, energyCost, element, skillType):\n",
    "\n",
    "        self.name = name\n",
    "        self.baseDmg = baseDmg\n",
    "        self.variationDmg = variationDmg \n",
    "        self.energyCost = energyCost\n",
    "        self.element = element \n",
    "        self.skillType = skillType\n",
    "    \n",
    "    def executeSkill(self, target, user): #skill type refers to physical, magical, or neutral damage \n",
    "        rawDamage = randint(self.baseDmg-self.variationDmg, self.baseDmg+self.variationDmg) #establish lower and upper bounds of damage \n",
    "        if (self.skillType == 'Physical'):\n",
    "            overallDamage = rawDamage + user.attackDamage - target.physicalDefense - target.elementalResistances[self.element]\n",
    "            if (random.uniform(0, 1) <= user.criticalRate):\n",
    "                overallDamage *= 1.5\n",
    "                print(\"Critical Strike!\")\n",
    "            if (target.elementalResistances[self.element] > 5):\n",
    "                print(\"Target is resistant to this element!\")\n",
    "            if (target.elementalResistances[self.element] < 0):\n",
    "                print(\"Target is weak to this element!\")\n",
    "            if (overallDamage < 0):\n",
    "                overallDamage = 0 #this is to make sure the damage does not go negative before the next line \n",
    "            target.adjustHealth(-1 * overallDamage)\n",
    "            if (isinstance(user, Player)): #adjust print statement based on if the user was the player or the enemy\n",
    "                print(\"You dealt \" + str(overallDamage) + \" damage to the enemy \" + target.name + \"!\" )\n",
    "            if (isinstance(user, Enemy)):\n",
    "                print(\"The enemy dealt \" + str(overallDamage) + \" damage to you!\" )                \n",
    "            \n",
    "        if (self.skillType == 'Magical'):\n",
    "            overallDamage = rawDamage + user.magicDamage - target.magicDefense - target.elementalResistances[self.element]\n",
    "            if (target.elementalResistances[self.element] > 5):\n",
    "                print(\"Target is resistant to this element!\")\n",
    "            if (target.elementalResistances[self.element] < 0):\n",
    "                print(\"Target is weak to this element!\")\n",
    "            if (overallDamage < 0):\n",
    "                overallDamage = 0 #this is to make sure the damage does not go negative before the next line\n",
    "            target.adjustHealth(-1 * overallDamage)\n",
    "            if (isinstance(user, Player)): #adjust print statement based on if the user was the player or the enemy\n",
    "                print(\"You dealt \" + str(overallDamage) + \" damage to the enemy \" + target.name + \"!\" )\n",
    "            if (isinstance(user, Enemy)):\n",
    "                print(\"The enemy dealt \" + str(overallDamage) + \" damage to you!\" )   \n",
    "            ##put a function here that checks the health for game overs and/or enemy defeats \n",
    "            #or just check after we call this function \n",
    "        #clear_output()\n",
    "        return overallDamage \n",
    "    \n",
    "class BuffDebuffSkill:\n",
    "    def __init__(self, stat, adjustment, skillType):\n",
    "        self.stat = stat #tracks which stat in particular will be adjusted \n",
    "        self.skillType = skillType #tracks how much the stat gets adjusted \n",
    "        if (isinstance(self.skillType, 'Buff')):\n",
    "            self.adjustment = adjustment \n",
    "        else:\n",
    "            self.adjustment = adjustment * -1 \n",
    "    \n",
    "    def executeSkill(self, target, user):\n",
    "        if (self.stat == \"Attack Damage\"):\n",
    "            target.adjustattackDamage(self.adjustment)\n",
    "        if (self.stat == \"Magic Damage\"):\n",
    "            target.adjustmagicDamage(self.adjustment)        \n",
    "        \n",
    "            \n",
    "        \n",
    "        "
   ]
  },
  {
   "cell_type": "code",
   "execution_count": 58,
   "metadata": {},
   "outputs": [
    {
     "data": {
      "text/plain": [
       "3"
      ]
     },
     "execution_count": 58,
     "metadata": {},
     "output_type": "execute_result"
    }
   ],
   "source": [
    "baseDmg = 3\n",
    "variationDmg = 1\n",
    "randint(baseDmg-variationDmg, baseDmg+variationDmg)"
   ]
  },
  {
   "cell_type": "code",
   "execution_count": 70,
   "metadata": {},
   "outputs": [],
   "source": [
    "elementResistance = {'Fire':3, 'Water': 2, 'Electric': 0, 'Ice': 5, 'Dark': 3, 'Light': -1, 'Physical': 0}\n",
    "scythe = Weapon(3, 3, 0.01, 'Physical')\n",
    "plating = Armor(15, 1, 1, 1, elementResistance)\n",
    "mainCharacter = Player(100, 0, 0, scythe, plating, 0, elementResistance)\n",
    "slimeEnemy = Enemy(50, 'Slime', 10, 10, 5, 5, 3, 3, elementResistance)\n",
    "fireballSpell = Skill(7.5, 2.5, 8, 'Fire', 'Magical')\n",
    "attack = Skill(3,1,0,'Physical', 'Physical')"
   ]
  },
  {
   "cell_type": "code",
   "execution_count": 72,
   "metadata": {},
   "outputs": [
    {
     "name": "stdout",
     "output_type": "stream",
     "text": [
      "You dealt 12 damage to the enemy Slime!\n"
     ]
    },
    {
     "data": {
      "text/plain": [
       "12"
      ]
     },
     "execution_count": 72,
     "metadata": {},
     "output_type": "execute_result"
    }
   ],
   "source": [
    "attack.executeSkill(slimeEnemy, mainCharacter)"
   ]
  },
  {
   "cell_type": "code",
   "execution_count": null,
   "metadata": {},
   "outputs": [],
   "source": [
    "class Weapon:\n",
    "    def __init__(self, attackDamage, magicDamage, criticalRate, element):\n",
    "        "
   ]
  },
  {
   "cell_type": "code",
   "execution_count": 5,
   "metadata": {},
   "outputs": [],
   "source": [
    "elementResistance = {'Fire':3, 'Water': 2} ##example for element resistance "
   ]
  },
  {
   "cell_type": "code",
   "execution_count": 6,
   "metadata": {},
   "outputs": [
    {
     "data": {
      "text/plain": [
       "3"
      ]
     },
     "execution_count": 6,
     "metadata": {},
     "output_type": "execute_result"
    }
   ],
   "source": [
    "elementResistance['Fire']"
   ]
  },
  {
   "cell_type": "code",
   "execution_count": 13,
   "metadata": {},
   "outputs": [
    {
     "name": "stdout",
     "output_type": "stream",
     "text": [
      "hi\n",
      "ox\n"
     ]
    }
   ],
   "source": [
    "print(\"hi\")\n",
    "print(\"ox\")"
   ]
  },
  {
   "cell_type": "code",
   "execution_count": 8,
   "metadata": {},
   "outputs": [],
   "source": [
    "import json\n",
    "unlockables = {}\n",
    "unlockables['skillUnlocks'] = [] ##so one entry in the unlockables dictionary is a list of skills that are unlocked \n",
    "unlockables['skillUnlocks'].append('Fireball')\n",
    "with open('unlockables.txt', 'w') as outfile:\n",
    "    json.dump(unlockables, outfile)"
   ]
  },
  {
   "cell_type": "code",
   "execution_count": null,
   "metadata": {},
   "outputs": [],
   "source": []
  }
 ],
 "metadata": {
  "kernelspec": {
   "display_name": "Python 3",
   "language": "python",
   "name": "python3"
  },
  "language_info": {
   "codemirror_mode": {
    "name": "ipython",
    "version": 3
   },
   "file_extension": ".py",
   "mimetype": "text/x-python",
   "name": "python",
   "nbconvert_exporter": "python",
   "pygments_lexer": "ipython3",
   "version": "3.8.3"
  }
 },
 "nbformat": 4,
 "nbformat_minor": 4
}
