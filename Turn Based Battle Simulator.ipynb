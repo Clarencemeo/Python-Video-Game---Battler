{
 "cells": [
  {
   "cell_type": "code",
   "execution_count": 1,
   "metadata": {},
   "outputs": [],
   "source": [
    "class Player:\n",
    "    def __init__(self, health, gold, experience, weapons, armor, skills, elementalResistances):\n",
    "        self.health = health + armor.health\n",
    "        self.gold = gold\n",
    "        self.weapons = weapons\n",
    "        self.armor = armor\n",
    "        self.experience = experience\n",
    "        self.skillList = skills \n",
    "        self.criticalRate = 0.05 + weapons.criticalRate;\n",
    "        self.attackDamage = 10 + weapons.attackDamage\n",
    "        self.magicDamage = 10 + weapons.magicDamage\n",
    "        self.physicalDefense = 10 + armor.physicalDefense\n",
    "        self.magicDefense = 10 + armor.magicDefense\n",
    "        self.luck = 0.05 + armor.luck\n",
    "        self.elementalResistances = {'Fire':0+armor.elementalResistances['Fire'], \n",
    "                                     'Water':0+armor.elementalResistances['Water'], \n",
    "                                     'Electric':0+armor.elementalResistances['Electric'],\n",
    "                                     'Ice':0+armor.elementalResistances['Ice'],\n",
    "                                     'Dark':0+armor.elementalResistances['Dark'],\n",
    "                                     'Light':0+armor.elementalResistances['Light'],\n",
    "                                     'Physical':0+armor.elementalResistances['Physical']\n",
    "                                    }\n",
    "    \n",
    "    def adjustHealth(self, health): #Health can be positive or negative \n",
    "        self.health += health\n",
    "    \n",
    "    def changeWeapon(self, weapon): \n",
    "        self.attackDamage = 10 + weapons.attackDamage + buffs.attackDamage - debuffs.attackDamage\n",
    "    \n",
    "    def adjustattackDamage(self, value):\n",
    "        self.attackDamage += value\n",
    "\n",
    "    def adjustmagicDamage(self, value):\n",
    "        self.magicDamage += value\n",
    "    \n",
    "    def printElementalResistances(self):\n",
    "        for y in self.elementalResistances[x]:\n",
    "            print (y,':',self.elementalResistances[x][y])\n",
    "        \n",
    "        \n",
    "        "
   ]
  },
  {
   "cell_type": "code",
   "execution_count": 2,
   "metadata": {},
   "outputs": [],
   "source": [
    "class Weapon:\n",
    "    def __init__(self, attackDamage, magicDamage, criticalRate, element):\n",
    "        self.attackDamage = attackDamage \n",
    "        self.magicDamage = magicDamage \n",
    "        self.criticalRate = criticalRate\n",
    "        self.element = element\n",
    "\n",
    "class Armor:\n",
    "    def __init__(self, health, physicalDefense, magicDefense, luck, elementalResistances):\n",
    "        self.physicalDefense = physicalDefense\n",
    "        self.health = health\n",
    "        self.magicDefense = magicDefense \n",
    "        self.luck = luck \n",
    "        self.elementalResistances = elementalResistances\n"
   ]
  },
  {
   "cell_type": "code",
   "execution_count": 3,
   "metadata": {},
   "outputs": [],
   "source": [
    "class Enemy:\n",
    "    def __init__(self, health, name, goldReward, experienceReward, attackDamage, magicDamage, \n",
    "                 physicalDefense, magicDefense, elementalResistances):\n",
    "        #elemental resistances could be a dictionary with elements and respective resistances \n",
    "        self.health = health\n",
    "        self.name = name\n",
    "        self.goldReward = goldReward\n",
    "        self.experienceReward = experienceReward\n",
    "        self.attackDamage = attackDamage\n",
    "        self.magicDamage = magicDamage\n",
    "        self.physicalDefense = physicalDefense\n",
    "        self.magicDefense = magicDefense \n",
    "        self.elementalResistances = elementalResistances\n",
    "    \n",
    "    def adjustHealth(self, health):\n",
    "        self.health += health\n",
    "\n"
   ]
  },
  {
   "cell_type": "code",
   "execution_count": 4,
   "metadata": {},
   "outputs": [],
   "source": [
    "from random import randint\n",
    "import random\n",
    "from IPython.display import clear_output\n",
    "class Skill:\n",
    "    def __init__(self, name, baseDmg, variationDmg, energyCost, element, skillType):\n",
    "        self.name = name\n",
    "        self.baseDmg = baseDmg\n",
    "        self.variationDmg = variationDmg \n",
    "        self.energyCost = energyCost\n",
    "        self.element = element \n",
    "        self.skillType = skillType\n",
    "    \n",
    "    def getName(self):\n",
    "        return self.name\n",
    "    \n",
    "    def executeSkill(self, target, user): #skill type refers to physical, magical, or neutral damage \n",
    "        rawDamage = randint(self.baseDmg-self.variationDmg, self.baseDmg+self.variationDmg) #establish lower and upper bounds of damage \n",
    "        if (self.skillType == 'Physical'):\n",
    "            overallDamage = rawDamage + user.attackDamage - target.physicalDefense - target.elementalResistances[self.element]\n",
    "            if (random.uniform(0, 1) <= user.criticalRate):\n",
    "                overallDamage *= 1.5\n",
    "                print(\"Critical Strike!\")\n",
    "            if (target.elementalResistances[self.element] > 5):\n",
    "                print(\"Target is resistant to this element!\")\n",
    "            if (target.elementalResistances[self.element] < 0):\n",
    "                print(\"Target is weak to this element!\")\n",
    "            if (overallDamage < 0):\n",
    "                overallDamage = 0 #this is to make sure the damage does not go negative before the next line \n",
    "            target.adjustHealth(-1 * overallDamage)\n",
    "            if (isinstance(user, Player)): #adjust print statement based on if the user was the player or the enemy\n",
    "                print(\"You dealt \" + str(overallDamage) + \" damage to the enemy \" + target.name + \"!\" )\n",
    "            if (isinstance(user, Enemy)):\n",
    "                print(\"The enemy dealt \" + str(overallDamage) + \" damage to you!\" )                \n",
    "            \n",
    "        if (self.skillType == 'Magical'):\n",
    "            overallDamage = rawDamage + user.magicDamage - target.magicDefense - target.elementalResistances[self.element]\n",
    "            if (target.elementalResistances[self.element] > 5):\n",
    "                print(\"Target is resistant to this element!\")\n",
    "            if (target.elementalResistances[self.element] < 0):\n",
    "                print(\"Target is weak to this element!\")\n",
    "            if (overallDamage < 0):\n",
    "                overallDamage = 0 #this is to make sure the damage does not go negative before the next line\n",
    "            target.adjustHealth(-1 * overallDamage)\n",
    "            if (isinstance(user, Player)): #adjust print statement based on if the user was the player or the enemy\n",
    "                print(\"You dealt \" + str(overallDamage) + \" damage to the enemy \" + target.name + \"!\" )\n",
    "            if (isinstance(user, Enemy)):\n",
    "                print(\"The enemy dealt \" + str(overallDamage) + \" damage to you!\" )   \n",
    "            ##put a function here that checks the health for game overs and/or enemy defeats \n",
    "            #or just check after we call this function \n",
    "        #clear_output()\n",
    "        return overallDamage \n",
    "    \n",
    "class BuffDebuffSkill:\n",
    "    def __init__(self, name, stat, adjustment, skillType):\n",
    "        self.name = name\n",
    "        self.stat = stat #tracks which stat in particular will be adjusted \n",
    "        self.skillType = skillType #tracks how much the stat gets adjusted \n",
    "        if (self.skillType == \"Buff\"):\n",
    "            self.adjustment = adjustment \n",
    "        else:\n",
    "            self.adjustment = adjustment * -1 \n",
    "    \n",
    "    def executeSkill(self, target, user):\n",
    "        if (self.stat == \"Attack Damage\"):\n",
    "            target.adjustattackDamage(self.adjustment)\n",
    "        if (self.stat == \"Magic Damage\"):\n",
    "            target.adjustmagicDamage(self.adjustment)  \n",
    "\n",
    "    def getName(self):\n",
    "        return self.name\n",
    "        \n",
    "            \n",
    "        \n",
    "        "
   ]
  },
  {
   "cell_type": "code",
   "execution_count": null,
   "metadata": {},
   "outputs": [],
   "source": [
    "import json\n",
    "unlockables = {}\n",
    "unlockables['skillUnlocks'] = [] ##so one entry in the unlockables dictionary is a list of skills that are unlocked \n",
    "unlockables['skillUnlocks'].append('Fireball')\n",
    "with open('unlockables.txt', 'w') as outfile:\n",
    "    json.dump(unlockables, outfile)"
   ]
  },
  {
   "cell_type": "code",
   "execution_count": 20,
   "metadata": {},
   "outputs": [
    {
     "name": "stdout",
     "output_type": "stream",
     "text": [
      "Which skill would you like to equip?\n",
      "ox\n",
      "ox is not an unlocked skill you can equip.\n",
      "Which skill would you like to equip?\n",
      "none\n",
      "none is not an unlocked skill you can equip.\n",
      "Which skill would you like to equip?\n",
      "fireball\n"
     ]
    }
   ],
   "source": [
    "##Given a string that represents the name of the skill,\n",
    "##return the skill that has that string representation. \n",
    "import json\n",
    "fireballSpell = Skill('Fireball', 7.5, 2.5, 8, 'Fire', 'Magical')\n",
    "freezeSpell = Skill('Freezing Bolt', 7.5, 2.5, 8, 'Ice', 'Magical')\n",
    "motivate = BuffDebuffSkill('Motivate', \"Attack Damage\", 5, \"Buff\")\n",
    "zap = Skill('Zap', 7.5, 2.5, 8, 'Electric', 'Magical')\n",
    "#let's say they pass in 'Fireball', we want it to return fireballSpell \n",
    "#we could have a list of skills and we check each name to see if it \n",
    "#matches the parameter! \n",
    "\n",
    "#the main question here is how to append a Skill to a list\n",
    "#given it's string representation. \n",
    "#The user enters in the string representation, the program\n",
    "#reads from the JSON that has the skill String Representations,\n",
    "#and then it should blurt out the Skill version of the string representation. \n",
    "\n",
    "\n",
    "everySkill = [fireballSpell, freezeSpell, motivate, zap] #declare this first before anything \n",
    "\n",
    "#this function loops through the\n",
    "#everySkill list and appends it to the\n",
    "#given list if the skill is found in everySkill\n",
    "def findSkill (specificSkillName, skillList):\n",
    "    for skill in everySkill:\n",
    "        if (skill.getName() == specificSkillName):\n",
    "            skillList.append(skill)\n",
    "\n",
    "\n",
    "equippedSkills_string = [] \n",
    "unlockedSkills_string = []\n",
    "\n",
    "#read through the json file and keep track\n",
    "#of all the skills that are unlocked. \n",
    "with open('unlockables.txt') as json_file:\n",
    "    data = json.load(json_file)\n",
    "    for eachSkillUnlocked in data['skillUnlocks']:\n",
    "        unlockedSkills_string.append(eachSkillUnlocked)\n",
    "\n",
    "        \n",
    "printFlag1 = True\n",
    "numSkillsEquipped = 4; \n",
    "while(printFlag1): #keep asking the user to equip a skill until its valid\n",
    "    userInput = input(\"Which skill would you like to equip?\\n\")\n",
    "    #this for loop checks if the input is valid \n",
    "    for skill in unlockedSkills_string:\n",
    "        if (userInput.upper() == skill.upper()):\n",
    "            equippedSkills_string.append(skill)\n",
    "            print(userInput + \" was successfully equipped!\")\n",
    "            printFlag1 = False\n",
    "        if (printFlag1):\n",
    "            print(userInput + \" is not an unlocked skill you can equip.\")\n",
    "            break\n",
    "#equippedSkills is the same as equippedSkills_string,\n",
    "#except the strings are turned into their Skill representations \n",
    "equippedSkills = [] \n",
    "for eachSkill in equippedSkills_string:\n",
    "    #for every string representation of a skill in the equippedSkills_string list,\n",
    "    #find the corresponding skill from the everySkill list and add it to equippedSkills\n",
    "    findSkill(eachSkill, equippedSkills)\n",
    "    \n",
    "\n",
    "        \n"
   ]
  },
  {
   "cell_type": "code",
   "execution_count": null,
   "metadata": {},
   "outputs": [],
   "source": [
    "chooseSkill = input(\"Which skill would you like to use?\\n\")\n",
    "for eachSkill in equippedSkills:\n",
    "    if (chooseSkill == eachSkill):\n",
    "\n",
    "    if (p.upper() == userInput.upper()):\n",
    "        equippedSkills_strings.append(p)\n",
    "        printFlag1 = False\n",
    "    if (printFlag1):\n",
    "        print(userInput + \" is not an unlocked skill you can use.\")"
   ]
  },
  {
   "cell_type": "code",
   "execution_count": 6,
   "metadata": {},
   "outputs": [
    {
     "data": {
      "text/plain": [
       "2"
      ]
     },
     "execution_count": 6,
     "metadata": {},
     "output_type": "execute_result"
    }
   ],
   "source": [
    "baseDmg = 3\n",
    "variationDmg = 1\n",
    "randint(baseDmg-variationDmg, baseDmg+variationDmg)"
   ]
  },
  {
   "cell_type": "code",
   "execution_count": 8,
   "metadata": {},
   "outputs": [],
   "source": [
    "elementResistance = {'Fire':3, 'Water': 2, 'Electric': 0, 'Ice': 5, 'Dark': 3, 'Light': -1, 'Physical': 0}\n",
    "scythe = Weapon(3, 3, 0.01, 'Physical')\n",
    "plating = Armor(15, 1, 1, 1, elementResistance)\n",
    "mainCharacter = Player(100, 0, 0, scythe, plating, 0, elementResistance)\n",
    "slimeEnemy = Enemy(50, 'Slime', 10, 10, 5, 5, 3, 3, elementResistance)\n",
    "fireballSpell = Skill('FIREBALL', 7.5, 2.5, 8, 'Fire', 'Magical')\n",
    "attack = Skill('ATTACK', 3,1,0,'Physical', 'Physical')"
   ]
  },
  {
   "cell_type": "code",
   "execution_count": 11,
   "metadata": {},
   "outputs": [],
   "source": [
    "equippedSkills = []\n"
   ]
  },
  {
   "cell_type": "code",
   "execution_count": 10,
   "metadata": {},
   "outputs": [
    {
     "name": "stdout",
     "output_type": "stream",
     "text": [
      "Critical Strike!\n",
      "You dealt 21.0 damage to the enemy Slime!\n"
     ]
    },
    {
     "data": {
      "text/plain": [
       "21.0"
      ]
     },
     "execution_count": 10,
     "metadata": {},
     "output_type": "execute_result"
    }
   ],
   "source": [
    "attack.executeSkill(slimeEnemy, mainCharacter)"
   ]
  },
  {
   "cell_type": "code",
   "execution_count": null,
   "metadata": {},
   "outputs": [],
   "source": []
  },
  {
   "cell_type": "code",
   "execution_count": 5,
   "metadata": {},
   "outputs": [],
   "source": [
    "elementResistance = {'Fire':3, 'Water': 2} ##example for element resistance "
   ]
  },
  {
   "cell_type": "code",
   "execution_count": 6,
   "metadata": {},
   "outputs": [
    {
     "data": {
      "text/plain": [
       "3"
      ]
     },
     "execution_count": 6,
     "metadata": {},
     "output_type": "execute_result"
    }
   ],
   "source": [
    "elementResistance['Fire']"
   ]
  },
  {
   "cell_type": "code",
   "execution_count": 13,
   "metadata": {},
   "outputs": [
    {
     "name": "stdout",
     "output_type": "stream",
     "text": [
      "hi\n",
      "ox\n"
     ]
    }
   ],
   "source": [
    "print(\"hi\")\n",
    "print(\"ox\")"
   ]
  },
  {
   "cell_type": "code",
   "execution_count": 8,
   "metadata": {},
   "outputs": [],
   "source": [
    "import json\n",
    "unlockables = {}\n",
    "unlockables['skillUnlocks'] = [] ##so one entry in the unlockables dictionary is a list of skills that are unlocked \n",
    "unlockables['skillUnlocks'].append('Fireball')\n",
    "with open('unlockables.txt', 'w') as outfile:\n",
    "    json.dump(unlockables, outfile)"
   ]
  },
  {
   "cell_type": "code",
   "execution_count": null,
   "metadata": {},
   "outputs": [],
   "source": []
  }
 ],
 "metadata": {
  "kernelspec": {
   "display_name": "Python 3",
   "language": "python",
   "name": "python3"
  },
  "language_info": {
   "codemirror_mode": {
    "name": "ipython",
    "version": 3
   },
   "file_extension": ".py",
   "mimetype": "text/x-python",
   "name": "python",
   "nbconvert_exporter": "python",
   "pygments_lexer": "ipython3",
   "version": "3.8.3"
  }
 },
 "nbformat": 4,
 "nbformat_minor": 4
}
